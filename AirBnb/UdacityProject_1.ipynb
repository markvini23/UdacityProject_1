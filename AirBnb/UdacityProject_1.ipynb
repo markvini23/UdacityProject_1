{
 "cells": [
  {
   "cell_type": "code",
   "execution_count": 1,
   "metadata": {},
   "outputs": [],
   "source": [
    "import pandas as pd\n",
    "import numpy as np\n",
    "import seaborn as sns\n",
    "import os\n",
    "import json"
   ]
  },
  {
   "cell_type": "code",
   "execution_count": 2,
   "metadata": {},
   "outputs": [],
   "source": [
    "df_lst_seattle = pd.read_csv('.\\\\AirBnb_Seattle\\\\listings.csv')\n",
    "df_rvs_seattle = pd.read_csv('.\\\\AirBnb_Seattle\\\\reviews.csv')\n",
    "df_cl_seattle = pd.read_csv('.\\\\AirBnb_Seattle\\\\calendar.csv')"
   ]
  },
  {
   "cell_type": "code",
   "execution_count": 3,
   "metadata": {},
   "outputs": [],
   "source": [
    "df_lst_boston = pd.read_csv('.\\\\AirBnb_Boston\\\\listings.csv')\n",
    "df_rvs_boston = pd.read_csv('.\\\\AirBnb_Boston\\\\reviews.csv')\n",
    "df_cl_boston = pd.read_csv('.\\\\AirBnb_Boston\\\\calendar.csv')"
   ]
  },
  {
   "cell_type": "code",
   "execution_count": 4,
   "metadata": {
    "scrolled": true
   },
   "outputs": [
    {
     "name": "stdout",
     "output_type": "stream",
     "text": [
      "['price', 'weekly_price', 'monthly_price']\n"
     ]
    }
   ],
   "source": [
    "#Variables related to price in dataset (Target variable)\n",
    "print([i for i in list(df_lst_seattle.columns) if 'price' in i])\n",
    "#df_lst_seattle['price'] = df_lst_seattle['price'].str.replace('$', '').apply(lambda x: x.replace(',','')).astype(float)"
   ]
  },
  {
   "cell_type": "code",
   "execution_count": 10,
   "metadata": {
    "scrolled": false
   },
   "outputs": [
    {
     "data": {
      "text/plain": [
       "price               0\n",
       "weekly_price     1809\n",
       "monthly_price    2301\n",
       "dtype: int64"
      ]
     },
     "execution_count": 10,
     "metadata": {},
     "output_type": "execute_result"
    }
   ],
   "source": [
    "df_lst_seattle[['price', 'weekly_price', 'monthly_price']].isnull().sum()"
   ]
  },
  {
   "cell_type": "code",
   "execution_count": 21,
   "metadata": {},
   "outputs": [],
   "source": [
    "#Transforming price from string to float\n",
    "df_lst_seattle['price'] = df_lst_seattle['price'].apply(lambda x: x.replace('$', '').replace(',','')).astype(float)"
   ]
  },
  {
   "cell_type": "code",
   "execution_count": 24,
   "metadata": {
    "scrolled": true
   },
   "outputs": [
    {
     "data": {
      "text/plain": [
       "Index(['id', 'listing_url', 'scrape_id', 'last_scraped', 'name', 'summary',\n",
       "       'space', 'description', 'experiences_offered', 'neighborhood_overview',\n",
       "       'notes', 'transit', 'thumbnail_url', 'medium_url', 'picture_url',\n",
       "       'xl_picture_url', 'host_id', 'host_url', 'host_name', 'host_since',\n",
       "       'host_location', 'host_about', 'host_response_time',\n",
       "       'host_response_rate', 'host_acceptance_rate', 'host_is_superhost',\n",
       "       'host_thumbnail_url', 'host_picture_url', 'host_neighbourhood',\n",
       "       'host_listings_count', 'host_total_listings_count',\n",
       "       'host_verifications', 'host_has_profile_pic', 'host_identity_verified',\n",
       "       'street', 'neighbourhood', 'neighbourhood_cleansed',\n",
       "       'neighbourhood_group_cleansed', 'city', 'state', 'zipcode', 'market',\n",
       "       'smart_location', 'country_code', 'country', 'latitude', 'longitude',\n",
       "       'is_location_exact', 'property_type', 'room_type', 'accommodates',\n",
       "       'bathrooms', 'bedrooms', 'beds', 'bed_type', 'amenities', 'square_feet',\n",
       "       'price', 'weekly_price', 'monthly_price', 'security_deposit',\n",
       "       'cleaning_fee', 'guests_included', 'extra_people', 'minimum_nights',\n",
       "       'maximum_nights', 'calendar_updated', 'has_availability',\n",
       "       'availability_30', 'availability_60', 'availability_90',\n",
       "       'availability_365', 'calendar_last_scraped', 'number_of_reviews',\n",
       "       'first_review', 'last_review', 'review_scores_rating',\n",
       "       'review_scores_accuracy', 'review_scores_cleanliness',\n",
       "       'review_scores_checkin', 'review_scores_communication',\n",
       "       'review_scores_location', 'review_scores_value', 'requires_license',\n",
       "       'license', 'jurisdiction_names', 'instant_bookable',\n",
       "       'cancellation_policy', 'require_guest_profile_picture',\n",
       "       'require_guest_phone_verification', 'calculated_host_listings_count',\n",
       "       'reviews_per_month'],\n",
       "      dtype='object')"
      ]
     },
     "execution_count": 24,
     "metadata": {},
     "output_type": "execute_result"
    }
   ],
   "source": [
    "df_lst_seattle.columns"
   ]
  },
  {
   "cell_type": "code",
   "execution_count": 42,
   "metadata": {},
   "outputs": [],
   "source": [
    "df_selected_features = df_lst_seattle[['city', 'room_type', 'property_type', 'accommodates', 'bathrooms', 'bedrooms', 'beds', 'latitude', 'longitude',\n",
    "                'amenities', 'guests_included', 'minimum_nights',\n",
    "                'review_scores_rating', 'review_scores_accuracy', 'review_scores_cleanliness',\n",
    "                'review_scores_checkin', 'review_scores_communication', 'review_scores_location', 'review_scores_value'\n",
    "                , 'number_of_reviews', 'price']]"
   ]
  },
  {
   "cell_type": "code",
   "execution_count": 19,
   "metadata": {},
   "outputs": [
    {
     "data": {
      "text/plain": [
       "0               0\n",
       "1       $1,000.00\n",
       "2               0\n",
       "3         $650.00\n",
       "4               0\n",
       "          ...    \n",
       "3813            0\n",
       "3814            0\n",
       "3815      $450.00\n",
       "3816            0\n",
       "3817            0\n",
       "Name: weekly_price, Length: 3818, dtype: object"
      ]
     },
     "execution_count": 19,
     "metadata": {},
     "output_type": "execute_result"
    }
   ],
   "source": [
    "df_lst_seattle['weekly_price'].fillna('0')"
   ]
  },
  {
   "cell_type": "code",
   "execution_count": 16,
   "metadata": {},
   "outputs": [
    {
     "data": {
      "text/plain": [
       "'{TV,\"Cable TV\",Internet,\"Wireless Internet\",\"Air Conditioning\",Kitchen,Heating,\"Family/Kid Friendly\",Washer,Dryer}'"
      ]
     },
     "execution_count": 16,
     "metadata": {},
     "output_type": "execute_result"
    }
   ],
   "source": [
    "df_lst_seattle['amenities'][0]"
   ]
  },
  {
   "cell_type": "code",
   "execution_count": 8,
   "metadata": {
    "scrolled": true
   },
   "outputs": [
    {
     "data": {
      "text/html": [
       "<div>\n",
       "<style scoped>\n",
       "    .dataframe tbody tr th:only-of-type {\n",
       "        vertical-align: middle;\n",
       "    }\n",
       "\n",
       "    .dataframe tbody tr th {\n",
       "        vertical-align: top;\n",
       "    }\n",
       "\n",
       "    .dataframe thead th {\n",
       "        text-align: right;\n",
       "    }\n",
       "</style>\n",
       "<table border=\"1\" class=\"dataframe\">\n",
       "  <thead>\n",
       "    <tr style=\"text-align: right;\">\n",
       "      <th></th>\n",
       "      <th>0</th>\n",
       "    </tr>\n",
       "  </thead>\n",
       "  <tbody>\n",
       "    <tr>\n",
       "      <td>Internet</td>\n",
       "      <td>3692</td>\n",
       "    </tr>\n",
       "    <tr>\n",
       "      <td>Wireless Internet</td>\n",
       "      <td>3667</td>\n",
       "    </tr>\n",
       "    <tr>\n",
       "      <td>Heating</td>\n",
       "      <td>3627</td>\n",
       "    </tr>\n",
       "    <tr>\n",
       "      <td>Kitchen</td>\n",
       "      <td>3423</td>\n",
       "    </tr>\n",
       "    <tr>\n",
       "      <td>Smoke Detector</td>\n",
       "      <td>3281</td>\n",
       "    </tr>\n",
       "    <tr>\n",
       "      <td>Essentials</td>\n",
       "      <td>3237</td>\n",
       "    </tr>\n",
       "    <tr>\n",
       "      <td>Dryer</td>\n",
       "      <td>3114</td>\n",
       "    </tr>\n",
       "    <tr>\n",
       "      <td>Washer</td>\n",
       "      <td>2992</td>\n",
       "    </tr>\n",
       "    <tr>\n",
       "      <td>TV</td>\n",
       "      <td>2741</td>\n",
       "    </tr>\n",
       "    <tr>\n",
       "      <td>Shampoo</td>\n",
       "      <td>2670</td>\n",
       "    </tr>\n",
       "    <tr>\n",
       "      <td>Carbon Monoxide Detector</td>\n",
       "      <td>2485</td>\n",
       "    </tr>\n",
       "    <tr>\n",
       "      <td>Fire Extinguisher</td>\n",
       "      <td>2196</td>\n",
       "    </tr>\n",
       "    <tr>\n",
       "      <td>Free Parking on Premises</td>\n",
       "      <td>2167</td>\n",
       "    </tr>\n",
       "    <tr>\n",
       "      <td>Family/Kid Friendly</td>\n",
       "      <td>1963</td>\n",
       "    </tr>\n",
       "    <tr>\n",
       "      <td>First Aid Kit</td>\n",
       "      <td>1680</td>\n",
       "    </tr>\n",
       "    <tr>\n",
       "      <td>Cable TV</td>\n",
       "      <td>1446</td>\n",
       "    </tr>\n",
       "    <tr>\n",
       "      <td>Indoor Fireplace</td>\n",
       "      <td>886</td>\n",
       "    </tr>\n",
       "    <tr>\n",
       "      <td>Pets live on this property</td>\n",
       "      <td>883</td>\n",
       "    </tr>\n",
       "    <tr>\n",
       "      <td>Hangers</td>\n",
       "      <td>846</td>\n",
       "    </tr>\n",
       "    <tr>\n",
       "      <td>Elevator in Building</td>\n",
       "      <td>785</td>\n",
       "    </tr>\n",
       "    <tr>\n",
       "      <td>Hair Dryer</td>\n",
       "      <td>774</td>\n",
       "    </tr>\n",
       "    <tr>\n",
       "      <td>Laptop Friendly Workspace</td>\n",
       "      <td>745</td>\n",
       "    </tr>\n",
       "    <tr>\n",
       "      <td>Iron</td>\n",
       "      <td>742</td>\n",
       "    </tr>\n",
       "    <tr>\n",
       "      <td>Safety Card</td>\n",
       "      <td>727</td>\n",
       "    </tr>\n",
       "    <tr>\n",
       "      <td>Air Conditioning</td>\n",
       "      <td>677</td>\n",
       "    </tr>\n",
       "    <tr>\n",
       "      <td>24-Hour Check-in</td>\n",
       "      <td>616</td>\n",
       "    </tr>\n",
       "    <tr>\n",
       "      <td>Buzzer/Wireless Intercom</td>\n",
       "      <td>538</td>\n",
       "    </tr>\n",
       "    <tr>\n",
       "      <td>Dog(s)</td>\n",
       "      <td>509</td>\n",
       "    </tr>\n",
       "    <tr>\n",
       "      <td>Pets Allowed</td>\n",
       "      <td>472</td>\n",
       "    </tr>\n",
       "    <tr>\n",
       "      <td>Gym</td>\n",
       "      <td>442</td>\n",
       "    </tr>\n",
       "    <tr>\n",
       "      <td>Cat(s)</td>\n",
       "      <td>382</td>\n",
       "    </tr>\n",
       "    <tr>\n",
       "      <td>Hot Tub</td>\n",
       "      <td>303</td>\n",
       "    </tr>\n",
       "    <tr>\n",
       "      <td>Wheelchair Accessible</td>\n",
       "      <td>300</td>\n",
       "    </tr>\n",
       "    <tr>\n",
       "      <td>Breakfast</td>\n",
       "      <td>291</td>\n",
       "    </tr>\n",
       "    <tr>\n",
       "      <td>Suitable for Events</td>\n",
       "      <td>209</td>\n",
       "    </tr>\n",
       "    <tr>\n",
       "      <td>Pool</td>\n",
       "      <td>159</td>\n",
       "    </tr>\n",
       "    <tr>\n",
       "      <td>Lock on Bedroom Door</td>\n",
       "      <td>100</td>\n",
       "    </tr>\n",
       "    <tr>\n",
       "      <td>Doorman</td>\n",
       "      <td>85</td>\n",
       "    </tr>\n",
       "    <tr>\n",
       "      <td>Smoking Allowed</td>\n",
       "      <td>82</td>\n",
       "    </tr>\n",
       "    <tr>\n",
       "      <td>Other pet(s)</td>\n",
       "      <td>51</td>\n",
       "    </tr>\n",
       "    <tr>\n",
       "      <td>Washer / Dryer</td>\n",
       "      <td>2</td>\n",
       "    </tr>\n",
       "  </tbody>\n",
       "</table>\n",
       "</div>"
      ],
      "text/plain": [
       "                               0\n",
       "Internet                    3692\n",
       "Wireless Internet           3667\n",
       "Heating                     3627\n",
       "Kitchen                     3423\n",
       "Smoke Detector              3281\n",
       "Essentials                  3237\n",
       "Dryer                       3114\n",
       "Washer                      2992\n",
       "TV                          2741\n",
       "Shampoo                     2670\n",
       "Carbon Monoxide Detector    2485\n",
       "Fire Extinguisher           2196\n",
       "Free Parking on Premises    2167\n",
       "Family/Kid Friendly         1963\n",
       "First Aid Kit               1680\n",
       "Cable TV                    1446\n",
       "Indoor Fireplace             886\n",
       "Pets live on this property   883\n",
       "Hangers                      846\n",
       "Elevator in Building         785\n",
       "Hair Dryer                   774\n",
       "Laptop Friendly Workspace    745\n",
       "Iron                         742\n",
       "Safety Card                  727\n",
       "Air Conditioning             677\n",
       "24-Hour Check-in             616\n",
       "Buzzer/Wireless Intercom     538\n",
       "Dog(s)                       509\n",
       "Pets Allowed                 472\n",
       "Gym                          442\n",
       "Cat(s)                       382\n",
       "Hot Tub                      303\n",
       "Wheelchair Accessible        300\n",
       "Breakfast                    291\n",
       "Suitable for Events          209\n",
       "Pool                         159\n",
       "Lock on Bedroom Door         100\n",
       "Doorman                       85\n",
       "Smoking Allowed               82\n",
       "Other pet(s)                  51\n",
       "Washer / Dryer                 2"
      ]
     },
     "execution_count": 8,
     "metadata": {},
     "output_type": "execute_result"
    }
   ],
   "source": [
    "#Amenities in the listings\n",
    "df_lst_seattle['amenities'] = df_lst_seattle['amenities'].apply(lambda x: x.replace('{', '').replace('}','').replace('\"', ''))\n",
    "amenities_lst = list(np.unique(np.concatenate([i.split(',') for i in df_lst_seattle['amenities']])))\n",
    "\n",
    "amenities_dict = {}\n",
    "\n",
    "for i in amenities_lst:\n",
    "    #amenities_dict[i] = 0\n",
    "    count = 0\n",
    "    for j in df_lst_seattle['amenities']:\n",
    "        if i in j:\n",
    "            #Se na coluna procurada existem valores nos campos de pesquisa\n",
    "            #new_df[val] += int(df[col2][idx])\n",
    "            count+=1\n",
    "    amenities_dict[i] = count\n",
    "    \n",
    "    \n",
    "#print(amenities_dict.items())\n",
    "\n",
    "amenities_df = pd.DataFrame(pd.Series(amenities_dict))\n",
    "\n",
    "amenities_df.sort_values(0, ascending = False)[1:]\n",
    "#maybe it can be a variable in my final dataFrame"
   ]
  },
  {
   "cell_type": "code",
   "execution_count": 79,
   "metadata": {},
   "outputs": [],
   "source": [
    "def money_to_float(x):\n",
    "    if (x == None) or (x == 'nan') or type(x) == float:\n",
    "        x = '$0'\n",
    "    x = x.replace('$', '')\n",
    "    x = x.replace(',', '')\n",
    "    return float(x)"
   ]
  },
  {
   "cell_type": "code",
   "execution_count": 13,
   "metadata": {
    "scrolled": true
   },
   "outputs": [
    {
     "data": {
      "text/plain": [
       "license                        1.000000\n",
       "square_feet                    0.974594\n",
       "monthly_price                  0.602672\n",
       "security_deposit               0.511262\n",
       "weekly_price                   0.473808\n",
       "notes                          0.420639\n",
       "neighborhood_overview          0.270299\n",
       "cleaning_fee                   0.269775\n",
       "transit                        0.244631\n",
       "host_about                     0.224987\n",
       "host_acceptance_rate           0.202462\n",
       "review_scores_accuracy         0.172342\n",
       "review_scores_checkin          0.172342\n",
       "review_scores_value            0.171818\n",
       "review_scores_location         0.171556\n",
       "review_scores_cleanliness      0.171032\n",
       "review_scores_communication    0.170508\n",
       "review_scores_rating           0.169460\n",
       "reviews_per_month              0.164222\n",
       "first_review                   0.164222\n",
       "last_review                    0.164222\n",
       "space                          0.149031\n",
       "host_response_rate             0.136983\n",
       "host_response_time             0.136983\n",
       "neighbourhood                  0.108958\n",
       "xl_picture_url                 0.083814\n",
       "medium_url                     0.083814\n",
       "thumbnail_url                  0.083814\n",
       "host_neighbourhood             0.078575\n",
       "dtype: float64"
      ]
     },
     "execution_count": 13,
     "metadata": {},
     "output_type": "execute_result"
    }
   ],
   "source": [
    "df_lst_seattle.isnull().sum()[(df_lst_seattle.isnull().sum()/ df_lst_seattle.shape[0]) > .05].sort_values(ascending= False)/ df_lst_seattle.shape[0]"
   ]
  },
  {
   "cell_type": "code",
   "execution_count": 53,
   "metadata": {
    "scrolled": true
   },
   "outputs": [
    {
     "data": {
      "text/plain": [
       "<matplotlib.axes._subplots.AxesSubplot at 0x1fa031dcb48>"
      ]
     },
     "execution_count": 53,
     "metadata": {},
     "output_type": "execute_result"
    },
    {
     "data": {
      "image/png": "[encoded data removed]",
      "text/plain": [
       "<Figure size 432x288 with 2 Axes>"
      ]
     },
     "metadata": {
      "needs_background": "light"
     },
     "output_type": "display_data"
    }
   ],
   "source": [
    "sns.heatmap(df_lst_seattle[['review_scores_value', 'amenities', 'neighbourhood', 'neighbourhood_cleansed', 'cleaning_fee', 'bathrooms', 'bedrooms', 'beds', 'price']].corr(), annot = True)"
   ]
  },
  {
   "cell_type": "code",
   "execution_count": 56,
   "metadata": {},
   "outputs": [
    {
     "data": {
      "text/plain": [
       "Index(['listing_url', 'last_scraped', 'name', 'summary', 'space',\n",
       "       'description', 'experiences_offered', 'neighborhood_overview', 'notes',\n",
       "       'transit', 'thumbnail_url', 'medium_url', 'picture_url',\n",
       "       'xl_picture_url', 'host_url', 'host_name', 'host_since',\n",
       "       'host_location', 'host_about', 'host_response_time',\n",
       "       'host_response_rate', 'host_acceptance_rate', 'host_is_superhost',\n",
       "       'host_thumbnail_url', 'host_picture_url', 'host_neighbourhood',\n",
       "       'host_verifications', 'host_has_profile_pic', 'host_identity_verified',\n",
       "       'street', 'neighbourhood', 'neighbourhood_cleansed',\n",
       "       'neighbourhood_group_cleansed', 'city', 'state', 'zipcode', 'market',\n",
       "       'smart_location', 'country_code', 'country', 'is_location_exact',\n",
       "       'property_type', 'room_type', 'bed_type', 'amenities', 'weekly_price',\n",
       "       'monthly_price', 'security_deposit', 'cleaning_fee', 'extra_people',\n",
       "       'calendar_updated', 'has_availability', 'calendar_last_scraped',\n",
       "       'first_review', 'last_review', 'requires_license', 'jurisdiction_names',\n",
       "       'instant_bookable', 'cancellation_policy',\n",
       "       'require_guest_profile_picture', 'require_guest_phone_verification'],\n",
       "      dtype='object')"
      ]
     },
     "execution_count": 56,
     "metadata": {},
     "output_type": "execute_result"
    }
   ],
   "source": [
    "df_lst_seattle.select_dtypes(include='object').columns"
   ]
  },
  {
   "cell_type": "code",
   "execution_count": 81,
   "metadata": {
    "scrolled": false
   },
   "outputs": [],
   "source": [
    "df_lst_seattle['cleaning_fee'] = df_lst_seattle['cleaning_fee'].apply(lambda x : money_to_float(x))"
   ]
  },
  {
   "cell_type": "code",
   "execution_count": 42,
   "metadata": {
    "scrolled": true
   },
   "outputs": [
    {
     "data": {
      "text/plain": [
       "<matplotlib.axes._subplots.AxesSubplot at 0x1fa032f5a08>"
      ]
     },
     "execution_count": 42,
     "metadata": {},
     "output_type": "execute_result"
    },
    {
     "data": {
      "image/png": "[encoded data removed]",
      "text/plain": [
       "<Figure size 432x288 with 2 Axes>"
      ]
     },
     "metadata": {
      "needs_background": "light"
     },
     "output_type": "display_data"
    }
   ],
   "source": [
    "sns.heatmap(df_lst_seattle[df_lst_seattle.columns[df_lst_seattle.isnull().sum()/df_lst_seattle.shape[0] > .05]].corr())"
   ]
  },
  {
   "cell_type": "code",
   "execution_count": 37,
   "metadata": {},
   "outputs": [],
   "source": [
    "df_lst_seattle.dropna(how='all', axis='columns', inplace= True)\n",
    "\n",
    "\n",
    "df_lst_seattle.dropna(subset=['price'], axis=0, inplace= True)"
   ]
  },
  {
   "cell_type": "code",
   "execution_count": 40,
   "metadata": {
    "scrolled": true
   },
   "outputs": [
    {
     "data": {
      "text/plain": [
       "Index(['id', 'listing_url', 'scrape_id', 'last_scraped', 'name', 'summary',\n",
       "       'space', 'description', 'experiences_offered', 'neighborhood_overview',\n",
       "       'notes', 'transit', 'thumbnail_url', 'medium_url', 'picture_url',\n",
       "       'xl_picture_url', 'host_id', 'host_url', 'host_name', 'host_since',\n",
       "       'host_location', 'host_about', 'host_response_time',\n",
       "       'host_response_rate', 'host_acceptance_rate', 'host_is_superhost',\n",
       "       'host_thumbnail_url', 'host_picture_url', 'host_neighbourhood',\n",
       "       'host_listings_count', 'host_total_listings_count',\n",
       "       'host_verifications', 'host_has_profile_pic', 'host_identity_verified',\n",
       "       'street', 'neighbourhood', 'neighbourhood_cleansed',\n",
       "       'neighbourhood_group_cleansed', 'city', 'state', 'zipcode', 'market',\n",
       "       'smart_location', 'country_code', 'country', 'latitude', 'longitude',\n",
       "       'is_location_exact', 'property_type', 'room_type', 'accommodates',\n",
       "       'bathrooms', 'bedrooms', 'beds', 'bed_type', 'amenities', 'square_feet',\n",
       "       'price', 'weekly_price', 'monthly_price', 'security_deposit',\n",
       "       'cleaning_fee', 'guests_included', 'extra_people', 'minimum_nights',\n",
       "       'maximum_nights', 'calendar_updated', 'has_availability',\n",
       "       'availability_30', 'availability_60', 'availability_90',\n",
       "       'availability_365', 'calendar_last_scraped', 'number_of_reviews',\n",
       "       'first_review', 'last_review', 'review_scores_rating',\n",
       "       'review_scores_accuracy', 'review_scores_cleanliness',\n",
       "       'review_scores_checkin', 'review_scores_communication',\n",
       "       'review_scores_location', 'review_scores_value', 'requires_license',\n",
       "       'jurisdiction_names', 'instant_bookable', 'cancellation_policy',\n",
       "       'require_guest_profile_picture', 'require_guest_phone_verification',\n",
       "       'calculated_host_listings_count', 'reviews_per_month'],\n",
       "      dtype='object')"
      ]
     },
     "execution_count": 40,
     "metadata": {},
     "output_type": "execute_result"
    }
   ],
   "source": [
    "df_lst_seattle.columns"
   ]
  },
  {
   "cell_type": "code",
   "execution_count": null,
   "metadata": {},
   "outputs": [],
   "source": [
    "!pip install jupyter_contrib_nbextensions && jupyter contrib nbextension install"
   ]
  },
  {
   "cell_type": "code",
   "execution_count": 53,
   "metadata": {
    "scrolled": true
   },
   "outputs": [
    {
     "data": {
      "text/plain": [
       "id                                                               10310373\n",
       "listing_url                         https://www.airbnb.com/rooms/10310373\n",
       "scrape_id                                                  20160104002432\n",
       "last_scraped                                                   2016-01-04\n",
       "name                                        Cozy, cute, Queen Anne living\n",
       "                                                    ...                  \n",
       "cancellation_policy                                              flexible\n",
       "require_guest_profile_picture                                           f\n",
       "require_guest_phone_verification                                        f\n",
       "calculated_host_listings_count                                          1\n",
       "reviews_per_month                                                     NaN\n",
       "Name: 53, Length: 92, dtype: object"
      ]
     },
     "execution_count": 53,
     "metadata": {},
     "output_type": "execute_result"
    }
   ],
   "source": [
    "df_lst_seattle['price'].describe()\n",
    "\n",
    "df_lst_seattle.iloc[np.argmin(df_lst_seattle['price'])]"
   ]
  },
  {
   "cell_type": "code",
   "execution_count": 119,
   "metadata": {
    "scrolled": false
   },
   "outputs": [
    {
     "data": {
      "text/plain": [
       "listing_id\n",
       "4291        [We had a great stay in Seattle, great locatio...\n",
       "5682        [Very sweet outgoing host with a nice family a...\n",
       "6606        [The Urban Cottage is comfortable, beautiful, ...\n",
       "7369        [I was staying with Shireen for a weekend and ...\n",
       "9419        [If you love art, animals, and yoga, this is t...\n",
       "                                  ...                        \n",
       "9995551     [Awesome host! The cottage is nice and clean a...\n",
       "10012724    [This is a prime location of walking distance ...\n",
       "10020221    [Awesome room! Thanks for the kindness and let...\n",
       "10118341    [My mom and I came for a 4 day trip and had a ...\n",
       "10248139    [I was able to book on the last minute and wor...\n",
       "Name: comments, Length: 3191, dtype: object"
      ]
     },
     "execution_count": 119,
     "metadata": {},
     "output_type": "execute_result"
    }
   ],
   "source": [
    "df_rvs_seattle.groupby('listing_id')['comments'].apply(lambda x: list(x))"
   ]
  },
  {
   "cell_type": "code",
   "execution_count": null,
   "metadata": {},
   "outputs": [],
   "source": [
    "#Date x Booking prices"
   ]
  },
  {
   "cell_type": "code",
   "execution_count": null,
   "metadata": {},
   "outputs": [],
   "source": [
    "#features that impact in the pricing"
   ]
  },
  {
   "cell_type": "code",
   "execution_count": null,
   "metadata": {},
   "outputs": [],
   "source": [
    "#location x pricing"
   ]
  },
  {
   "cell_type": "code",
   "execution_count": null,
   "metadata": {},
   "outputs": [],
   "source": [
    "#review and rating x price "
   ]
  },
  {
   "cell_type": "code",
   "execution_count": null,
   "metadata": {},
   "outputs": [],
   "source": [
    "#Price x amenities and features x location"
   ]
  }
 ],
 "metadata": {
  "kernelspec": {
   "display_name": "Python 3",
   "language": "python",
   "name": "python3"
  },
  "language_info": {
   "codemirror_mode": {
    "name": "ipython",
    "version": 3
   },
   "file_extension": ".py",
   "mimetype": "text/x-python",
   "name": "python",
   "nbconvert_exporter": "python",
   "pygments_lexer": "ipython3",
   "version": "3.7.4"
  }
 },
 "nbformat": 4,
 "nbformat_minor": 2
}
